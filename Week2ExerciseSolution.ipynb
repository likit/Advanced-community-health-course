{
  "nbformat": 4,
  "nbformat_minor": 0,
  "metadata": {
    "colab": {
      "provenance": [],
      "authorship_tag": "ABX9TyNHHQQFbdI1DhGWftZpZLPV",
      "include_colab_link": true
    },
    "kernelspec": {
      "name": "python3",
      "display_name": "Python 3"
    },
    "language_info": {
      "name": "python"
    }
  },
  "cells": [
    {
      "cell_type": "markdown",
      "metadata": {
        "id": "view-in-github",
        "colab_type": "text"
      },
      "source": [
        "<a href=\"https://colab.research.google.com/github/likit/Advanced-community-health-course/blob/main/Week2ExerciseSolution.ipynb\" target=\"_parent\"><img src=\"https://colab.research.google.com/assets/colab-badge.svg\" alt=\"Open In Colab\"/></a>"
      ]
    },
    {
      "cell_type": "code",
      "execution_count": 5,
      "metadata": {
        "id": "3UzFfB6XwxAV"
      },
      "outputs": [],
      "source": [
        "sequence = 'HELLOWORLD'"
      ]
    },
    {
      "cell_type": "code",
      "source": [
        "counts = {}"
      ],
      "metadata": {
        "id": "mKFpwLZ0xC6s"
      },
      "execution_count": 6,
      "outputs": []
    },
    {
      "cell_type": "code",
      "source": [
        "for letter in sequence:\n",
        "  if letter in counts:  # in operator checks if the key exists in the dict\n",
        "    counts[letter] += 1\n",
        "  else:\n",
        "    counts[letter] = 1"
      ],
      "metadata": {
        "id": "ZaakDcE_xQ6_"
      },
      "execution_count": 7,
      "outputs": []
    },
    {
      "cell_type": "code",
      "source": [
        "counts"
      ],
      "metadata": {
        "colab": {
          "base_uri": "https://localhost:8080/"
        },
        "id": "EW5iUn9Vxb7s",
        "outputId": "2d443790-e5bc-487a-f3c7-1c89fddfd342"
      },
      "execution_count": 8,
      "outputs": [
        {
          "output_type": "execute_result",
          "data": {
            "text/plain": [
              "{'H': 1, 'E': 1, 'L': 3, 'O': 2, 'W': 1, 'R': 1, 'D': 1}"
            ]
          },
          "metadata": {},
          "execution_count": 8
        }
      ]
    },
    {
      "cell_type": "code",
      "source": [
        "for letter in counts:\n",
        "  print(f'{letter}:{letter*counts[letter]} {counts[letter]/len(sequence)*100}')"
      ],
      "metadata": {
        "colab": {
          "base_uri": "https://localhost:8080/"
        },
        "id": "hmDeMjMAxc4r",
        "outputId": "9e321366-8c43-48a2-ddc3-9fe4009c5ebc"
      },
      "execution_count": 10,
      "outputs": [
        {
          "output_type": "stream",
          "name": "stdout",
          "text": [
            "H:H 10.0\n",
            "E:E 10.0\n",
            "L:LLL 30.0\n",
            "O:OO 20.0\n",
            "W:W 10.0\n",
            "R:R 10.0\n",
            "D:D 10.0\n"
          ]
        }
      ]
    },
    {
      "cell_type": "code",
      "source": [
        "from collections import defaultdict\n",
        "sequence = 'HELLOWORLD'\n",
        "counts = defaultdict(int)  # use 0 for the default value"
      ],
      "metadata": {
        "id": "wPwFScHvyOva"
      },
      "execution_count": 30,
      "outputs": []
    },
    {
      "cell_type": "code",
      "source": [
        "counts['x']  # use key as an index for data access"
      ],
      "metadata": {
        "colab": {
          "base_uri": "https://localhost:8080/"
        },
        "id": "v3enlVf70LGy",
        "outputId": "84471cf3-dd83-4d72-96c9-05aea16b8e5d"
      },
      "execution_count": 24,
      "outputs": [
        {
          "output_type": "execute_result",
          "data": {
            "text/plain": [
              "0"
            ]
          },
          "metadata": {},
          "execution_count": 24
        }
      ]
    },
    {
      "cell_type": "code",
      "source": [
        "counts.get('x')"
      ],
      "metadata": {
        "colab": {
          "base_uri": "https://localhost:8080/"
        },
        "id": "cQ2mdI9d0cWL",
        "outputId": "b6298d45-d6f4-4bbb-b2fe-4502d13b461c"
      },
      "execution_count": 25,
      "outputs": [
        {
          "output_type": "execute_result",
          "data": {
            "text/plain": [
              "0"
            ]
          },
          "metadata": {},
          "execution_count": 25
        }
      ]
    },
    {
      "cell_type": "code",
      "source": [
        "counts.get('x', 1) # get function is available for both dict and defaultdict"
      ],
      "metadata": {
        "colab": {
          "base_uri": "https://localhost:8080/"
        },
        "id": "R2lvgObr0nJT",
        "outputId": "12bb6172-83e2-41b9-f478-0aa460b63e7c"
      },
      "execution_count": 28,
      "outputs": [
        {
          "output_type": "execute_result",
          "data": {
            "text/plain": [
              "1"
            ]
          },
          "metadata": {},
          "execution_count": 28
        }
      ]
    },
    {
      "cell_type": "markdown",
      "source": [
        "**Defaultdict version**"
      ],
      "metadata": {
        "id": "gM6loE671vmC"
      }
    },
    {
      "cell_type": "code",
      "source": [
        "for letter in sequence:\n",
        "  counts[letter] = 1 + counts[letter]  # 0 value by default if key not exists"
      ],
      "metadata": {
        "id": "zwZqz6qRzM9d"
      },
      "execution_count": 31,
      "outputs": []
    },
    {
      "cell_type": "code",
      "source": [
        "counts"
      ],
      "metadata": {
        "colab": {
          "base_uri": "https://localhost:8080/"
        },
        "id": "WlOnEC_xzTtI",
        "outputId": "4acb2f50-a068-49c9-fd09-1e82a84a9e6d"
      },
      "execution_count": 32,
      "outputs": [
        {
          "output_type": "execute_result",
          "data": {
            "text/plain": [
              "defaultdict(int, {'H': 1, 'E': 1, 'L': 3, 'O': 2, 'W': 1, 'R': 1, 'D': 1})"
            ]
          },
          "metadata": {},
          "execution_count": 32
        }
      ]
    },
    {
      "cell_type": "markdown",
      "source": [
        "***Normal dictionary***"
      ],
      "metadata": {
        "id": "bY-_vVoI1yDj"
      }
    },
    {
      "cell_type": "code",
      "source": [
        "sequence = 'HELLOWORLD'\n",
        "counts = {}\n",
        "\n",
        "for letter in sequence:\n",
        "  counts[letter] = 1 + counts.get(letter, 0)\n",
        "\n",
        "counts"
      ],
      "metadata": {
        "colab": {
          "base_uri": "https://localhost:8080/"
        },
        "id": "LxobIphuzprg",
        "outputId": "b21ff65a-1c2a-4fcd-d8ca-1e3ee9b1b9a6"
      },
      "execution_count": 34,
      "outputs": [
        {
          "output_type": "execute_result",
          "data": {
            "text/plain": [
              "{'H': 1, 'E': 1, 'L': 3, 'O': 2, 'W': 1, 'R': 1, 'D': 1}"
            ]
          },
          "metadata": {},
          "execution_count": 34
        }
      ]
    },
    {
      "cell_type": "code",
      "source": [
        "sequence = 'HELLOWORLD'\n",
        "letter_list = defaultdict(list) # empty list []\n",
        "\n",
        "for letter in sequence:\n",
        "  letter_list[letter].append(letter)\n",
        "\n",
        "letter_list"
      ],
      "metadata": {
        "colab": {
          "base_uri": "https://localhost:8080/"
        },
        "id": "pQpFAv2s1oo9",
        "outputId": "fc53da57-2a59-4984-893a-637c20859cb1"
      },
      "execution_count": 35,
      "outputs": [
        {
          "output_type": "execute_result",
          "data": {
            "text/plain": [
              "defaultdict(list,\n",
              "            {'H': ['H'],\n",
              "             'E': ['E'],\n",
              "             'L': ['L', 'L', 'L'],\n",
              "             'O': ['O', 'O'],\n",
              "             'W': ['W'],\n",
              "             'R': ['R'],\n",
              "             'D': ['D']})"
            ]
          },
          "metadata": {},
          "execution_count": 35
        }
      ]
    },
    {
      "cell_type": "code",
      "source": [],
      "metadata": {
        "id": "nAh8Fzgm28OR"
      },
      "execution_count": null,
      "outputs": []
    }
  ]
}