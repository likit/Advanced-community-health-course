{
  "nbformat": 4,
  "nbformat_minor": 0,
  "metadata": {
    "colab": {
      "provenance": [],
      "authorship_tag": "ABX9TyMs50nxhzvwrtPtHqUMV8du",
      "include_colab_link": true
    },
    "kernelspec": {
      "name": "python3",
      "display_name": "Python 3"
    },
    "language_info": {
      "name": "python"
    }
  },
  "cells": [
    {
      "cell_type": "markdown",
      "metadata": {
        "id": "view-in-github",
        "colab_type": "text"
      },
      "source": [
        "<a href=\"https://colab.research.google.com/github/likit/Advanced-community-health-course/blob/main/duckdb_in_class.ipynb\" target=\"_parent\"><img src=\"https://colab.research.google.com/assets/colab-badge.svg\" alt=\"Open In Colab\"/></a>"
      ]
    },
    {
      "cell_type": "code",
      "execution_count": null,
      "metadata": {
        "id": "Zj5nXrJ-DNmJ"
      },
      "outputs": [],
      "source": [
        "import duckdb"
      ]
    },
    {
      "cell_type": "code",
      "source": [
        "conn = duckdb.connect(database=':memory:', read_only=False)"
      ],
      "metadata": {
        "id": "7uCfc_p9DWOc"
      },
      "execution_count": null,
      "outputs": []
    },
    {
      "cell_type": "code",
      "source": [
        "conn.execute(\"\"\"\n",
        "CREATE TABLE users (\n",
        "  id INTEGER,\n",
        "  name VARCHAR,\n",
        "  email VARCHAR,\n",
        "  join_date DATE,\n",
        ")\n",
        "\"\"\")"
      ],
      "metadata": {
        "colab": {
          "base_uri": "https://localhost:8080/"
        },
        "id": "oAIEeWoZDrE4",
        "outputId": "afeeafd7-92c4-4cd0-e6f9-cf7d4022c7a6"
      },
      "execution_count": null,
      "outputs": [
        {
          "output_type": "execute_result",
          "data": {
            "text/plain": [
              "<duckdb.duckdb.DuckDBPyConnection at 0x7cf9bf030730>"
            ]
          },
          "metadata": {},
          "execution_count": 3
        }
      ]
    },
    {
      "cell_type": "code",
      "source": [
        "conn.execute(\"\"\"\n",
        "INSERT INTO users (id, name, email, join_date) VALUES\n",
        "(1, 'Alice', 'alice@example.com', '2021-01-01'),\n",
        "(2, 'Bob', 'bob@example.com', '2021-02-01')\n",
        "\"\"\")"
      ],
      "metadata": {
        "colab": {
          "base_uri": "https://localhost:8080/"
        },
        "id": "CBXfahmvD58n",
        "outputId": "cf10e601-fd8c-4bb7-a639-996dd09da06c"
      },
      "execution_count": null,
      "outputs": [
        {
          "output_type": "execute_result",
          "data": {
            "text/plain": [
              "<duckdb.duckdb.DuckDBPyConnection at 0x7cf9bf030730>"
            ]
          },
          "metadata": {},
          "execution_count": 4
        }
      ]
    },
    {
      "cell_type": "code",
      "source": [
        "result = conn.execute('SELECT * FROM users;').fetchall()"
      ],
      "metadata": {
        "id": "4kxZP7MFES14"
      },
      "execution_count": null,
      "outputs": []
    },
    {
      "cell_type": "code",
      "source": [
        "result"
      ],
      "metadata": {
        "colab": {
          "base_uri": "https://localhost:8080/"
        },
        "id": "NJHra9nkEwNQ",
        "outputId": "62f74fc2-0e7d-4d38-eaab-f41f3ed625b3"
      },
      "execution_count": null,
      "outputs": [
        {
          "output_type": "execute_result",
          "data": {
            "text/plain": [
              "[(1, 'Alice', 'alice@example.com', datetime.date(2021, 1, 1)),\n",
              " (2, 'Bob', 'bob@example.com', datetime.date(2021, 2, 1))]"
            ]
          },
          "metadata": {},
          "execution_count": 6
        }
      ]
    },
    {
      "cell_type": "code",
      "source": [
        "import pandas as pd"
      ],
      "metadata": {
        "id": "qKNXMKEQEyBX"
      },
      "execution_count": null,
      "outputs": []
    },
    {
      "cell_type": "code",
      "source": [
        "data = pd.read_csv('2011-2012-health-data.csv')"
      ],
      "metadata": {
        "id": "N0zQrsQEFRwZ"
      },
      "execution_count": null,
      "outputs": []
    },
    {
      "cell_type": "code",
      "source": [
        "data.head()"
      ],
      "metadata": {
        "colab": {
          "base_uri": "https://localhost:8080/",
          "height": 206
        },
        "id": "TUAaEsMMFWor",
        "outputId": "80971550-c14c-418b-9c07-41e91fdef7f6"
      },
      "execution_count": null,
      "outputs": [
        {
          "output_type": "execute_result",
          "data": {
            "text/plain": [
              "      ServiceNo    ServiceDate  CustID   age  sex  cmsCode Weight Height  \\\n",
              "0  201101050001  5/1/2011 0:00   225.0  59.0  2.0  38468.0   81.8    159   \n",
              "1  201101050002  5/1/2011 0:00   225.0  55.0  2.0      0.0   53.7    156   \n",
              "2  201101050003  5/1/2011 0:00   225.0  60.0  2.0      0.0   57.2    156   \n",
              "3  201101050004  5/1/2011 0:00   225.0  55.0  2.0      0.0     60    157   \n",
              "4  201101050005  5/1/2011 0:00   225.0  59.0  1.0      0.0   79.6  171.5   \n",
              "\n",
              "  HeartRate Systolic  Diastolic          BMI   HDL     TG    UA  \n",
              "0        78      150       96.0  32.35631502  56.4  115.0  5.04  \n",
              "1        72      120       70.0  22.06607495  73.7  141.0  3.82  \n",
              "2        72      110       70.0   23.5042735  77.5   69.0  5.01  \n",
              "3        76      120       80.0  24.34175829  77.9   79.0  2.83  \n",
              "4        68      130       70.0  27.06355345  60.4   94.0  5.82  "
            ],
            "text/html": [
              "\n",
              "  <div id=\"df-dfc12133-f162-4362-b084-30463556d681\" class=\"colab-df-container\">\n",
              "    <div>\n",
              "<style scoped>\n",
              "    .dataframe tbody tr th:only-of-type {\n",
              "        vertical-align: middle;\n",
              "    }\n",
              "\n",
              "    .dataframe tbody tr th {\n",
              "        vertical-align: top;\n",
              "    }\n",
              "\n",
              "    .dataframe thead th {\n",
              "        text-align: right;\n",
              "    }\n",
              "</style>\n",
              "<table border=\"1\" class=\"dataframe\">\n",
              "  <thead>\n",
              "    <tr style=\"text-align: right;\">\n",
              "      <th></th>\n",
              "      <th>ServiceNo</th>\n",
              "      <th>ServiceDate</th>\n",
              "      <th>CustID</th>\n",
              "      <th>age</th>\n",
              "      <th>sex</th>\n",
              "      <th>cmsCode</th>\n",
              "      <th>Weight</th>\n",
              "      <th>Height</th>\n",
              "      <th>HeartRate</th>\n",
              "      <th>Systolic</th>\n",
              "      <th>Diastolic</th>\n",
              "      <th>BMI</th>\n",
              "      <th>HDL</th>\n",
              "      <th>TG</th>\n",
              "      <th>UA</th>\n",
              "    </tr>\n",
              "  </thead>\n",
              "  <tbody>\n",
              "    <tr>\n",
              "      <th>0</th>\n",
              "      <td>201101050001</td>\n",
              "      <td>5/1/2011 0:00</td>\n",
              "      <td>225.0</td>\n",
              "      <td>59.0</td>\n",
              "      <td>2.0</td>\n",
              "      <td>38468.0</td>\n",
              "      <td>81.8</td>\n",
              "      <td>159</td>\n",
              "      <td>78</td>\n",
              "      <td>150</td>\n",
              "      <td>96.0</td>\n",
              "      <td>32.35631502</td>\n",
              "      <td>56.4</td>\n",
              "      <td>115.0</td>\n",
              "      <td>5.04</td>\n",
              "    </tr>\n",
              "    <tr>\n",
              "      <th>1</th>\n",
              "      <td>201101050002</td>\n",
              "      <td>5/1/2011 0:00</td>\n",
              "      <td>225.0</td>\n",
              "      <td>55.0</td>\n",
              "      <td>2.0</td>\n",
              "      <td>0.0</td>\n",
              "      <td>53.7</td>\n",
              "      <td>156</td>\n",
              "      <td>72</td>\n",
              "      <td>120</td>\n",
              "      <td>70.0</td>\n",
              "      <td>22.06607495</td>\n",
              "      <td>73.7</td>\n",
              "      <td>141.0</td>\n",
              "      <td>3.82</td>\n",
              "    </tr>\n",
              "    <tr>\n",
              "      <th>2</th>\n",
              "      <td>201101050003</td>\n",
              "      <td>5/1/2011 0:00</td>\n",
              "      <td>225.0</td>\n",
              "      <td>60.0</td>\n",
              "      <td>2.0</td>\n",
              "      <td>0.0</td>\n",
              "      <td>57.2</td>\n",
              "      <td>156</td>\n",
              "      <td>72</td>\n",
              "      <td>110</td>\n",
              "      <td>70.0</td>\n",
              "      <td>23.5042735</td>\n",
              "      <td>77.5</td>\n",
              "      <td>69.0</td>\n",
              "      <td>5.01</td>\n",
              "    </tr>\n",
              "    <tr>\n",
              "      <th>3</th>\n",
              "      <td>201101050004</td>\n",
              "      <td>5/1/2011 0:00</td>\n",
              "      <td>225.0</td>\n",
              "      <td>55.0</td>\n",
              "      <td>2.0</td>\n",
              "      <td>0.0</td>\n",
              "      <td>60</td>\n",
              "      <td>157</td>\n",
              "      <td>76</td>\n",
              "      <td>120</td>\n",
              "      <td>80.0</td>\n",
              "      <td>24.34175829</td>\n",
              "      <td>77.9</td>\n",
              "      <td>79.0</td>\n",
              "      <td>2.83</td>\n",
              "    </tr>\n",
              "    <tr>\n",
              "      <th>4</th>\n",
              "      <td>201101050005</td>\n",
              "      <td>5/1/2011 0:00</td>\n",
              "      <td>225.0</td>\n",
              "      <td>59.0</td>\n",
              "      <td>1.0</td>\n",
              "      <td>0.0</td>\n",
              "      <td>79.6</td>\n",
              "      <td>171.5</td>\n",
              "      <td>68</td>\n",
              "      <td>130</td>\n",
              "      <td>70.0</td>\n",
              "      <td>27.06355345</td>\n",
              "      <td>60.4</td>\n",
              "      <td>94.0</td>\n",
              "      <td>5.82</td>\n",
              "    </tr>\n",
              "  </tbody>\n",
              "</table>\n",
              "</div>\n",
              "    <div class=\"colab-df-buttons\">\n",
              "\n",
              "  <div class=\"colab-df-container\">\n",
              "    <button class=\"colab-df-convert\" onclick=\"convertToInteractive('df-dfc12133-f162-4362-b084-30463556d681')\"\n",
              "            title=\"Convert this dataframe to an interactive table.\"\n",
              "            style=\"display:none;\">\n",
              "\n",
              "  <svg xmlns=\"http://www.w3.org/2000/svg\" height=\"24px\" viewBox=\"0 -960 960 960\">\n",
              "    <path d=\"M120-120v-720h720v720H120Zm60-500h600v-160H180v160Zm220 220h160v-160H400v160Zm0 220h160v-160H400v160ZM180-400h160v-160H180v160Zm440 0h160v-160H620v160ZM180-180h160v-160H180v160Zm440 0h160v-160H620v160Z\"/>\n",
              "  </svg>\n",
              "    </button>\n",
              "\n",
              "  <style>\n",
              "    .colab-df-container {\n",
              "      display:flex;\n",
              "      gap: 12px;\n",
              "    }\n",
              "\n",
              "    .colab-df-convert {\n",
              "      background-color: #E8F0FE;\n",
              "      border: none;\n",
              "      border-radius: 50%;\n",
              "      cursor: pointer;\n",
              "      display: none;\n",
              "      fill: #1967D2;\n",
              "      height: 32px;\n",
              "      padding: 0 0 0 0;\n",
              "      width: 32px;\n",
              "    }\n",
              "\n",
              "    .colab-df-convert:hover {\n",
              "      background-color: #E2EBFA;\n",
              "      box-shadow: 0px 1px 2px rgba(60, 64, 67, 0.3), 0px 1px 3px 1px rgba(60, 64, 67, 0.15);\n",
              "      fill: #174EA6;\n",
              "    }\n",
              "\n",
              "    .colab-df-buttons div {\n",
              "      margin-bottom: 4px;\n",
              "    }\n",
              "\n",
              "    [theme=dark] .colab-df-convert {\n",
              "      background-color: #3B4455;\n",
              "      fill: #D2E3FC;\n",
              "    }\n",
              "\n",
              "    [theme=dark] .colab-df-convert:hover {\n",
              "      background-color: #434B5C;\n",
              "      box-shadow: 0px 1px 3px 1px rgba(0, 0, 0, 0.15);\n",
              "      filter: drop-shadow(0px 1px 2px rgba(0, 0, 0, 0.3));\n",
              "      fill: #FFFFFF;\n",
              "    }\n",
              "  </style>\n",
              "\n",
              "    <script>\n",
              "      const buttonEl =\n",
              "        document.querySelector('#df-dfc12133-f162-4362-b084-30463556d681 button.colab-df-convert');\n",
              "      buttonEl.style.display =\n",
              "        google.colab.kernel.accessAllowed ? 'block' : 'none';\n",
              "\n",
              "      async function convertToInteractive(key) {\n",
              "        const element = document.querySelector('#df-dfc12133-f162-4362-b084-30463556d681');\n",
              "        const dataTable =\n",
              "          await google.colab.kernel.invokeFunction('convertToInteractive',\n",
              "                                                    [key], {});\n",
              "        if (!dataTable) return;\n",
              "\n",
              "        const docLinkHtml = 'Like what you see? Visit the ' +\n",
              "          '<a target=\"_blank\" href=https://colab.research.google.com/notebooks/data_table.ipynb>data table notebook</a>'\n",
              "          + ' to learn more about interactive tables.';\n",
              "        element.innerHTML = '';\n",
              "        dataTable['output_type'] = 'display_data';\n",
              "        await google.colab.output.renderOutput(dataTable, element);\n",
              "        const docLink = document.createElement('div');\n",
              "        docLink.innerHTML = docLinkHtml;\n",
              "        element.appendChild(docLink);\n",
              "      }\n",
              "    </script>\n",
              "  </div>\n",
              "\n",
              "\n",
              "<div id=\"df-56555e4a-70ec-48e4-9675-a21aefe0ad74\">\n",
              "  <button class=\"colab-df-quickchart\" onclick=\"quickchart('df-56555e4a-70ec-48e4-9675-a21aefe0ad74')\"\n",
              "            title=\"Suggest charts\"\n",
              "            style=\"display:none;\">\n",
              "\n",
              "<svg xmlns=\"http://www.w3.org/2000/svg\" height=\"24px\"viewBox=\"0 0 24 24\"\n",
              "     width=\"24px\">\n",
              "    <g>\n",
              "        <path d=\"M19 3H5c-1.1 0-2 .9-2 2v14c0 1.1.9 2 2 2h14c1.1 0 2-.9 2-2V5c0-1.1-.9-2-2-2zM9 17H7v-7h2v7zm4 0h-2V7h2v10zm4 0h-2v-4h2v4z\"/>\n",
              "    </g>\n",
              "</svg>\n",
              "  </button>\n",
              "\n",
              "<style>\n",
              "  .colab-df-quickchart {\n",
              "      --bg-color: #E8F0FE;\n",
              "      --fill-color: #1967D2;\n",
              "      --hover-bg-color: #E2EBFA;\n",
              "      --hover-fill-color: #174EA6;\n",
              "      --disabled-fill-color: #AAA;\n",
              "      --disabled-bg-color: #DDD;\n",
              "  }\n",
              "\n",
              "  [theme=dark] .colab-df-quickchart {\n",
              "      --bg-color: #3B4455;\n",
              "      --fill-color: #D2E3FC;\n",
              "      --hover-bg-color: #434B5C;\n",
              "      --hover-fill-color: #FFFFFF;\n",
              "      --disabled-bg-color: #3B4455;\n",
              "      --disabled-fill-color: #666;\n",
              "  }\n",
              "\n",
              "  .colab-df-quickchart {\n",
              "    background-color: var(--bg-color);\n",
              "    border: none;\n",
              "    border-radius: 50%;\n",
              "    cursor: pointer;\n",
              "    display: none;\n",
              "    fill: var(--fill-color);\n",
              "    height: 32px;\n",
              "    padding: 0;\n",
              "    width: 32px;\n",
              "  }\n",
              "\n",
              "  .colab-df-quickchart:hover {\n",
              "    background-color: var(--hover-bg-color);\n",
              "    box-shadow: 0 1px 2px rgba(60, 64, 67, 0.3), 0 1px 3px 1px rgba(60, 64, 67, 0.15);\n",
              "    fill: var(--button-hover-fill-color);\n",
              "  }\n",
              "\n",
              "  .colab-df-quickchart-complete:disabled,\n",
              "  .colab-df-quickchart-complete:disabled:hover {\n",
              "    background-color: var(--disabled-bg-color);\n",
              "    fill: var(--disabled-fill-color);\n",
              "    box-shadow: none;\n",
              "  }\n",
              "\n",
              "  .colab-df-spinner {\n",
              "    border: 2px solid var(--fill-color);\n",
              "    border-color: transparent;\n",
              "    border-bottom-color: var(--fill-color);\n",
              "    animation:\n",
              "      spin 1s steps(1) infinite;\n",
              "  }\n",
              "\n",
              "  @keyframes spin {\n",
              "    0% {\n",
              "      border-color: transparent;\n",
              "      border-bottom-color: var(--fill-color);\n",
              "      border-left-color: var(--fill-color);\n",
              "    }\n",
              "    20% {\n",
              "      border-color: transparent;\n",
              "      border-left-color: var(--fill-color);\n",
              "      border-top-color: var(--fill-color);\n",
              "    }\n",
              "    30% {\n",
              "      border-color: transparent;\n",
              "      border-left-color: var(--fill-color);\n",
              "      border-top-color: var(--fill-color);\n",
              "      border-right-color: var(--fill-color);\n",
              "    }\n",
              "    40% {\n",
              "      border-color: transparent;\n",
              "      border-right-color: var(--fill-color);\n",
              "      border-top-color: var(--fill-color);\n",
              "    }\n",
              "    60% {\n",
              "      border-color: transparent;\n",
              "      border-right-color: var(--fill-color);\n",
              "    }\n",
              "    80% {\n",
              "      border-color: transparent;\n",
              "      border-right-color: var(--fill-color);\n",
              "      border-bottom-color: var(--fill-color);\n",
              "    }\n",
              "    90% {\n",
              "      border-color: transparent;\n",
              "      border-bottom-color: var(--fill-color);\n",
              "    }\n",
              "  }\n",
              "</style>\n",
              "\n",
              "  <script>\n",
              "    async function quickchart(key) {\n",
              "      const quickchartButtonEl =\n",
              "        document.querySelector('#' + key + ' button');\n",
              "      quickchartButtonEl.disabled = true;  // To prevent multiple clicks.\n",
              "      quickchartButtonEl.classList.add('colab-df-spinner');\n",
              "      try {\n",
              "        const charts = await google.colab.kernel.invokeFunction(\n",
              "            'suggestCharts', [key], {});\n",
              "      } catch (error) {\n",
              "        console.error('Error during call to suggestCharts:', error);\n",
              "      }\n",
              "      quickchartButtonEl.classList.remove('colab-df-spinner');\n",
              "      quickchartButtonEl.classList.add('colab-df-quickchart-complete');\n",
              "    }\n",
              "    (() => {\n",
              "      let quickchartButtonEl =\n",
              "        document.querySelector('#df-56555e4a-70ec-48e4-9675-a21aefe0ad74 button');\n",
              "      quickchartButtonEl.style.display =\n",
              "        google.colab.kernel.accessAllowed ? 'block' : 'none';\n",
              "    })();\n",
              "  </script>\n",
              "</div>\n",
              "    </div>\n",
              "  </div>\n"
            ],
            "application/vnd.google.colaboratory.intrinsic+json": {
              "type": "dataframe",
              "variable_name": "data",
              "summary": "{\n  \"name\": \"data\",\n  \"rows\": 18645,\n  \"fields\": [\n    {\n      \"column\": \"ServiceNo\",\n      \"properties\": {\n        \"dtype\": \"number\",\n        \"std\": 2801075,\n        \"min\": 201101050001,\n        \"max\": 201112280131,\n        \"num_unique_values\": 18645,\n        \"samples\": [\n          201106180024,\n          201107220104,\n          201108160746\n        ],\n        \"semantic_type\": \"\",\n        \"description\": \"\"\n      }\n    },\n    {\n      \"column\": \"ServiceDate\",\n      \"properties\": {\n        \"dtype\": \"category\",\n        \"num_unique_values\": 95,\n        \"samples\": [\n          \"10/8/2011 0:00\",\n          \"8/3/2011 0:00\",\n          \"24/8/2011 0:00\"\n        ],\n        \"semantic_type\": \"\",\n        \"description\": \"\"\n      }\n    },\n    {\n      \"column\": \"CustID\",\n      \"properties\": {\n        \"dtype\": \"number\",\n        \"std\": 74.61474237962196,\n        \"min\": 1.0,\n        \"max\": 259.0,\n        \"num_unique_values\": 105,\n        \"samples\": [\n          228.0,\n          123.0,\n          102.0\n        ],\n        \"semantic_type\": \"\",\n        \"description\": \"\"\n      }\n    },\n    {\n      \"column\": \"age\",\n      \"properties\": {\n        \"dtype\": \"number\",\n        \"std\": 13.791771898910065,\n        \"min\": 0.0,\n        \"max\": 93.0,\n        \"num_unique_values\": 79,\n        \"samples\": [\n          38.0,\n          59.0,\n          23.0\n        ],\n        \"semantic_type\": \"\",\n        \"description\": \"\"\n      }\n    },\n    {\n      \"column\": \"sex\",\n      \"properties\": {\n        \"dtype\": \"number\",\n        \"std\": 0.49157836333431754,\n        \"min\": 1.0,\n        \"max\": 2.0,\n        \"num_unique_values\": 2,\n        \"samples\": [\n          1.0,\n          2.0\n        ],\n        \"semantic_type\": \"\",\n        \"description\": \"\"\n      }\n    },\n    {\n      \"column\": \"cmsCode\",\n      \"properties\": {\n        \"dtype\": \"number\",\n        \"std\": 20330.214235018808,\n        \"min\": 0.0,\n        \"max\": 158637.0,\n        \"num_unique_values\": 7885,\n        \"samples\": [\n          40608.0,\n          44285.0\n        ],\n        \"semantic_type\": \"\",\n        \"description\": \"\"\n      }\n    },\n    {\n      \"column\": \"Weight\",\n      \"properties\": {\n        \"dtype\": \"category\",\n        \"num_unique_values\": 625,\n        \"samples\": [\n          \"87.3\",\n          \"80.4\"\n        ],\n        \"semantic_type\": \"\",\n        \"description\": \"\"\n      }\n    },\n    {\n      \"column\": \"Height\",\n      \"properties\": {\n        \"dtype\": \"category\",\n        \"num_unique_values\": 149,\n        \"samples\": [\n          \"183.5\",\n          \"169\"\n        ],\n        \"semantic_type\": \"\",\n        \"description\": \"\"\n      }\n    },\n    {\n      \"column\": \"HeartRate\",\n      \"properties\": {\n        \"dtype\": \"category\",\n        \"num_unique_values\": 56,\n        \"samples\": [\n          \"78\",\n          \"82\"\n        ],\n        \"semantic_type\": \"\",\n        \"description\": \"\"\n      }\n    },\n    {\n      \"column\": \"Systolic\",\n      \"properties\": {\n        \"dtype\": \"category\",\n        \"num_unique_values\": 70,\n        \"samples\": [\n          \"132\",\n          \"150\"\n        ],\n        \"semantic_type\": \"\",\n        \"description\": \"\"\n      }\n    },\n    {\n      \"column\": \"Diastolic\",\n      \"properties\": {\n        \"dtype\": \"number\",\n        \"std\": 9.12994472682774,\n        \"min\": 50.0,\n        \"max\": 150.0,\n        \"num_unique_values\": 47,\n        \"samples\": [\n          64.0,\n          87.0\n        ],\n        \"semantic_type\": \"\",\n        \"description\": \"\"\n      }\n    },\n    {\n      \"column\": \"BMI\",\n      \"properties\": {\n        \"dtype\": \"category\",\n        \"num_unique_values\": 6423,\n        \"samples\": [\n          \"21.65728423\",\n          \"24.84451055\"\n        ],\n        \"semantic_type\": \"\",\n        \"description\": \"\"\n      }\n    },\n    {\n      \"column\": \"HDL\",\n      \"properties\": {\n        \"dtype\": \"category\",\n        \"num_unique_values\": 933,\n        \"samples\": [\n          \"28.4\",\n          \"51.9\"\n        ],\n        \"semantic_type\": \"\",\n        \"description\": \"\"\n      }\n    },\n    {\n      \"column\": \"TG\",\n      \"properties\": {\n        \"dtype\": \"number\",\n        \"std\": 92.70951522975376,\n        \"min\": 21.0,\n        \"max\": 1877.0,\n        \"num_unique_values\": 531,\n        \"samples\": [\n          381.0,\n          80.0\n        ],\n        \"semantic_type\": \"\",\n        \"description\": \"\"\n      }\n    },\n    {\n      \"column\": \"UA\",\n      \"properties\": {\n        \"dtype\": \"number\",\n        \"std\": 1.4548826713270226,\n        \"min\": 0.66,\n        \"max\": 13.14,\n        \"num_unique_values\": 805,\n        \"samples\": [\n          5.84,\n          1.82\n        ],\n        \"semantic_type\": \"\",\n        \"description\": \"\"\n      }\n    }\n  ]\n}"
            }
          },
          "metadata": {},
          "execution_count": 9
        }
      ]
    },
    {
      "cell_type": "code",
      "source": [
        "duckdb.sql('SELECT * FROM data WHERE age > 60;')"
      ],
      "metadata": {
        "colab": {
          "base_uri": "https://localhost:8080/"
        },
        "id": "hf75kfZHFYpL",
        "outputId": "1096e421-b8d4-4280-862c-87d481c722f3"
      },
      "execution_count": null,
      "outputs": [
        {
          "output_type": "execute_result",
          "data": {
            "text/plain": [
              "┌──────────────┬─────────────────┬────────┬────────┬────────┬───┬───────────┬─────────────┬─────────┬────────┬────────┐\n",
              "│  ServiceNo   │   ServiceDate   │ CustID │  age   │  sex   │ … │ Diastolic │     BMI     │   HDL   │   TG   │   UA   │\n",
              "│    int64     │     varchar     │ double │ double │ double │   │  double   │   varchar   │ varchar │ double │ double │\n",
              "├──────────────┼─────────────────┼────────┼────────┼────────┼───┼───────────┼─────────────┼─────────┼────────┼────────┤\n",
              "│ 201101050010 │ 5/1/2011 0:00   │  225.0 │   61.0 │    2.0 │ … │      80.0 │ 22.74583596 │ 78.9    │   66.0 │   5.36 │\n",
              "│ 201101190013 │ 19/1/2011 0:00  │  179.0 │   61.0 │    2.0 │ … │      80.0 │ 18.6723886  │ 57.3    │  105.0 │   3.82 │\n",
              "│ 201101190014 │ 19/1/2011 0:00  │  179.0 │   61.0 │    2.0 │ … │      80.0 │ 28.08433211 │ 79.2    │   48.0 │   5.07 │\n",
              "│ 201101190074 │ 19/1/2011 0:00  │  179.0 │   61.0 │    2.0 │ … │      90.0 │ 25.20398137 │ 88.8    │  131.0 │   6.39 │\n",
              "│ 201101190110 │ 19/1/2011 0:00  │  179.0 │   61.0 │    2.0 │ … │      90.0 │ 29.20332937 │ 58.3    │  133.0 │   2.01 │\n",
              "│ 201101190212 │ 19/1/2011 0:00  │  179.0 │   61.0 │    2.0 │ … │      80.0 │ 19.52240591 │ 84.9    │   84.0 │   4.83 │\n",
              "│ 201101240028 │ 24/1/2011 0:00  │   47.0 │   62.0 │    2.0 │ … │      60.0 │ 22.9719382  │ 72.4    │   79.0 │   5.75 │\n",
              "│ 201101240047 │ 24/1/2011 0:00  │   47.0 │   74.0 │    1.0 │ … │      80.0 │ 25.14285714 │ 46.9    │  131.0 │   6.14 │\n",
              "│ 201101250034 │ 25/1/2011 0:00  │  145.0 │   61.0 │    1.0 │ … │      80.0 │ 26.89232314 │ 37.7    │  198.0 │   6.38 │\n",
              "│ 201101250039 │ 25/1/2011 0:00  │  145.0 │   68.0 │    1.0 │ … │      80.0 │ 26.00906435 │ 46.7    │  125.0 │   7.32 │\n",
              "│       ·      │       ·         │     ·  │     ·  │     ·  │ · │        ·  │      ·      │  ·      │     ·  │     ·  │\n",
              "│       ·      │       ·         │     ·  │     ·  │     ·  │ · │        ·  │      ·      │  ·      │     ·  │     ·  │\n",
              "│       ·      │       ·         │     ·  │     ·  │     ·  │ · │        ·  │      ·      │  ·      │     ·  │     ·  │\n",
              "│ 201112220032 │ 22/12/2011 0:00 │   42.0 │   68.0 │    1.0 │ … │      NULL │ 32.88370675 │ NULL    │   NULL │   NULL │\n",
              "│ 201112220035 │ 22/12/2011 0:00 │   42.0 │   66.0 │    2.0 │ … │      NULL │ 30.97960356 │ NULL    │   NULL │   NULL │\n",
              "│ 201112220042 │ 22/12/2011 0:00 │   42.0 │   63.0 │    2.0 │ … │      NULL │ 26.16739016 │ NULL    │   NULL │   NULL │\n",
              "│ 201112220043 │ 22/12/2011 0:00 │   42.0 │   70.0 │    2.0 │ … │      NULL │ 23.10093652 │ NULL    │   NULL │   NULL │\n",
              "│ 201112220054 │ 22/12/2011 0:00 │   42.0 │   72.0 │    2.0 │ … │      NULL │ 24.14151925 │ NULL    │   NULL │   NULL │\n",
              "│ 201112220057 │ 22/12/2011 0:00 │   42.0 │   63.0 │    2.0 │ … │      NULL │ 26.35351661 │ NULL    │   NULL │   NULL │\n",
              "│ 201112220077 │ 22/12/2011 0:00 │   42.0 │   65.0 │    2.0 │ … │      NULL │ 22.27069851 │ NULL    │   NULL │   NULL │\n",
              "│ 201112220080 │ 22/12/2011 0:00 │   42.0 │   63.0 │    2.0 │ … │      NULL │ 34.32553427 │ 67.1    │   93.0 │   NULL │\n",
              "│ 201112270010 │ 27/12/2011 0:00 │   31.0 │   61.0 │    2.0 │ … │      80.0 │ 25.09851755 │ 58.3    │  113.0 │   3.52 │\n",
              "│ 201112270043 │ 27/12/2011 0:00 │   31.0 │   64.0 │    1.0 │ … │      80.0 │ 27.54820937 │ 44.2    │  428.0 │   8.91 │\n",
              "├──────────────┴─────────────────┴────────┴────────┴────────┴───┴───────────┴─────────────┴─────────┴────────┴────────┤\n",
              "│ 1956 rows (20 shown)                                                                          15 columns (10 shown) │\n",
              "└─────────────────────────────────────────────────────────────────────────────────────────────────────────────────────┘"
            ]
          },
          "metadata": {},
          "execution_count": 10
        }
      ]
    },
    {
      "cell_type": "code",
      "source": [
        "duckdb.sql('SELECT AVG(age) FROM data WHERE age > 60')"
      ],
      "metadata": {
        "colab": {
          "base_uri": "https://localhost:8080/"
        },
        "id": "IsiYA2nTFsVA",
        "outputId": "3dfab2f1-bedf-4755-b9ba-5261e057a8ca"
      },
      "execution_count": null,
      "outputs": [
        {
          "output_type": "execute_result",
          "data": {
            "text/plain": [
              "┌─────────────────┐\n",
              "│    avg(age)     │\n",
              "│     double      │\n",
              "├─────────────────┤\n",
              "│ 66.640081799591 │\n",
              "└─────────────────┘"
            ]
          },
          "metadata": {},
          "execution_count": 11
        }
      ]
    },
    {
      "cell_type": "code",
      "source": [
        "duckdb.sql('SELECT AVG(age) FILTER (age > 60), AVG(age), MEDIAN(age), MIN(age), MAX(age) FROM data')"
      ],
      "metadata": {
        "colab": {
          "base_uri": "https://localhost:8080/"
        },
        "id": "4Aa7QRV1GB-y",
        "outputId": "38b89a7e-eb16-4b6b-babf-d7920924a3ba"
      },
      "execution_count": null,
      "outputs": [
        {
          "output_type": "execute_result",
          "data": {
            "text/plain": [
              "┌────────────────────────────────────┬───────────────────┬─────────────┬──────────┬──────────┐\n",
              "│ avg(age) FILTER (WHERE (age > 60)) │     avg(age)      │ median(age) │ min(age) │ max(age) │\n",
              "│               double               │      double       │   double    │  double  │  double  │\n",
              "├────────────────────────────────────┼───────────────────┼─────────────┼──────────┼──────────┤\n",
              "│                    66.640081799591 │ 46.72509254788347 │        49.0 │      0.0 │     93.0 │\n",
              "└────────────────────────────────────┴───────────────────┴─────────────┴──────────┴──────────┘"
            ]
          },
          "metadata": {},
          "execution_count": 14
        }
      ]
    },
    {
      "cell_type": "code",
      "source": [
        "duckdb.sql('''SELECT AVG(age) FILTER (age > 60) AS avg_aging_age,\n",
        "AVG(age) AS avg_age,\n",
        "MEDIAN(age) AS median_age,\n",
        "MIN(age) AS min_age,\n",
        "MAX(age) AS max_age\n",
        "FROM data''').df()"
      ],
      "metadata": {
        "colab": {
          "base_uri": "https://localhost:8080/",
          "height": 81
        },
        "id": "WDdKa89LGxrb",
        "outputId": "4d03a448-ac9e-4fa0-bd09-c658ebd6256f"
      },
      "execution_count": null,
      "outputs": [
        {
          "output_type": "execute_result",
          "data": {
            "text/plain": [
              "   avg_aging_age    avg_age  median_age  min_age  max_age\n",
              "0      66.640082  46.725093        49.0      0.0     93.0"
            ],
            "text/html": [
              "\n",
              "  <div id=\"df-efa52194-65cb-44a0-b07f-fdf3591be9bd\" class=\"colab-df-container\">\n",
              "    <div>\n",
              "<style scoped>\n",
              "    .dataframe tbody tr th:only-of-type {\n",
              "        vertical-align: middle;\n",
              "    }\n",
              "\n",
              "    .dataframe tbody tr th {\n",
              "        vertical-align: top;\n",
              "    }\n",
              "\n",
              "    .dataframe thead th {\n",
              "        text-align: right;\n",
              "    }\n",
              "</style>\n",
              "<table border=\"1\" class=\"dataframe\">\n",
              "  <thead>\n",
              "    <tr style=\"text-align: right;\">\n",
              "      <th></th>\n",
              "      <th>avg_aging_age</th>\n",
              "      <th>avg_age</th>\n",
              "      <th>median_age</th>\n",
              "      <th>min_age</th>\n",
              "      <th>max_age</th>\n",
              "    </tr>\n",
              "  </thead>\n",
              "  <tbody>\n",
              "    <tr>\n",
              "      <th>0</th>\n",
              "      <td>66.640082</td>\n",
              "      <td>46.725093</td>\n",
              "      <td>49.0</td>\n",
              "      <td>0.0</td>\n",
              "      <td>93.0</td>\n",
              "    </tr>\n",
              "  </tbody>\n",
              "</table>\n",
              "</div>\n",
              "    <div class=\"colab-df-buttons\">\n",
              "\n",
              "  <div class=\"colab-df-container\">\n",
              "    <button class=\"colab-df-convert\" onclick=\"convertToInteractive('df-efa52194-65cb-44a0-b07f-fdf3591be9bd')\"\n",
              "            title=\"Convert this dataframe to an interactive table.\"\n",
              "            style=\"display:none;\">\n",
              "\n",
              "  <svg xmlns=\"http://www.w3.org/2000/svg\" height=\"24px\" viewBox=\"0 -960 960 960\">\n",
              "    <path d=\"M120-120v-720h720v720H120Zm60-500h600v-160H180v160Zm220 220h160v-160H400v160Zm0 220h160v-160H400v160ZM180-400h160v-160H180v160Zm440 0h160v-160H620v160ZM180-180h160v-160H180v160Zm440 0h160v-160H620v160Z\"/>\n",
              "  </svg>\n",
              "    </button>\n",
              "\n",
              "  <style>\n",
              "    .colab-df-container {\n",
              "      display:flex;\n",
              "      gap: 12px;\n",
              "    }\n",
              "\n",
              "    .colab-df-convert {\n",
              "      background-color: #E8F0FE;\n",
              "      border: none;\n",
              "      border-radius: 50%;\n",
              "      cursor: pointer;\n",
              "      display: none;\n",
              "      fill: #1967D2;\n",
              "      height: 32px;\n",
              "      padding: 0 0 0 0;\n",
              "      width: 32px;\n",
              "    }\n",
              "\n",
              "    .colab-df-convert:hover {\n",
              "      background-color: #E2EBFA;\n",
              "      box-shadow: 0px 1px 2px rgba(60, 64, 67, 0.3), 0px 1px 3px 1px rgba(60, 64, 67, 0.15);\n",
              "      fill: #174EA6;\n",
              "    }\n",
              "\n",
              "    .colab-df-buttons div {\n",
              "      margin-bottom: 4px;\n",
              "    }\n",
              "\n",
              "    [theme=dark] .colab-df-convert {\n",
              "      background-color: #3B4455;\n",
              "      fill: #D2E3FC;\n",
              "    }\n",
              "\n",
              "    [theme=dark] .colab-df-convert:hover {\n",
              "      background-color: #434B5C;\n",
              "      box-shadow: 0px 1px 3px 1px rgba(0, 0, 0, 0.15);\n",
              "      filter: drop-shadow(0px 1px 2px rgba(0, 0, 0, 0.3));\n",
              "      fill: #FFFFFF;\n",
              "    }\n",
              "  </style>\n",
              "\n",
              "    <script>\n",
              "      const buttonEl =\n",
              "        document.querySelector('#df-efa52194-65cb-44a0-b07f-fdf3591be9bd button.colab-df-convert');\n",
              "      buttonEl.style.display =\n",
              "        google.colab.kernel.accessAllowed ? 'block' : 'none';\n",
              "\n",
              "      async function convertToInteractive(key) {\n",
              "        const element = document.querySelector('#df-efa52194-65cb-44a0-b07f-fdf3591be9bd');\n",
              "        const dataTable =\n",
              "          await google.colab.kernel.invokeFunction('convertToInteractive',\n",
              "                                                    [key], {});\n",
              "        if (!dataTable) return;\n",
              "\n",
              "        const docLinkHtml = 'Like what you see? Visit the ' +\n",
              "          '<a target=\"_blank\" href=https://colab.research.google.com/notebooks/data_table.ipynb>data table notebook</a>'\n",
              "          + ' to learn more about interactive tables.';\n",
              "        element.innerHTML = '';\n",
              "        dataTable['output_type'] = 'display_data';\n",
              "        await google.colab.output.renderOutput(dataTable, element);\n",
              "        const docLink = document.createElement('div');\n",
              "        docLink.innerHTML = docLinkHtml;\n",
              "        element.appendChild(docLink);\n",
              "      }\n",
              "    </script>\n",
              "  </div>\n",
              "\n",
              "    </div>\n",
              "  </div>\n"
            ],
            "application/vnd.google.colaboratory.intrinsic+json": {
              "type": "dataframe",
              "summary": "{\n  \"name\": \"FROM data''')\",\n  \"rows\": 1,\n  \"fields\": [\n    {\n      \"column\": \"avg_aging_age\",\n      \"properties\": {\n        \"dtype\": \"number\",\n        \"std\": null,\n        \"min\": 66.640081799591,\n        \"max\": 66.640081799591,\n        \"num_unique_values\": 1,\n        \"samples\": [\n          66.640081799591\n        ],\n        \"semantic_type\": \"\",\n        \"description\": \"\"\n      }\n    },\n    {\n      \"column\": \"avg_age\",\n      \"properties\": {\n        \"dtype\": \"number\",\n        \"std\": null,\n        \"min\": 46.72509254788347,\n        \"max\": 46.72509254788347,\n        \"num_unique_values\": 1,\n        \"samples\": [\n          46.72509254788347\n        ],\n        \"semantic_type\": \"\",\n        \"description\": \"\"\n      }\n    },\n    {\n      \"column\": \"median_age\",\n      \"properties\": {\n        \"dtype\": \"number\",\n        \"std\": null,\n        \"min\": 49.0,\n        \"max\": 49.0,\n        \"num_unique_values\": 1,\n        \"samples\": [\n          49.0\n        ],\n        \"semantic_type\": \"\",\n        \"description\": \"\"\n      }\n    },\n    {\n      \"column\": \"min_age\",\n      \"properties\": {\n        \"dtype\": \"number\",\n        \"std\": null,\n        \"min\": 0.0,\n        \"max\": 0.0,\n        \"num_unique_values\": 1,\n        \"samples\": [\n          0.0\n        ],\n        \"semantic_type\": \"\",\n        \"description\": \"\"\n      }\n    },\n    {\n      \"column\": \"max_age\",\n      \"properties\": {\n        \"dtype\": \"number\",\n        \"std\": null,\n        \"min\": 93.0,\n        \"max\": 93.0,\n        \"num_unique_values\": 1,\n        \"samples\": [\n          93.0\n        ],\n        \"semantic_type\": \"\",\n        \"description\": \"\"\n      }\n    }\n  ]\n}"
            }
          },
          "metadata": {},
          "execution_count": 18
        }
      ]
    },
    {
      "cell_type": "markdown",
      "source": [
        "## Python Relational Operation API"
      ],
      "metadata": {
        "id": "ELkelDRuIJ70"
      }
    },
    {
      "cell_type": "markdown",
      "source": [
        "[More examples](https://github.com/duckdb/duckdb/blob/main/examples/python/duckdb-python.py)"
      ],
      "metadata": {
        "id": "CkPZJ0R8tLlP"
      }
    },
    {
      "cell_type": "markdown",
      "source": [
        "[DuckDBPyRelation Reference](https://duckdb.org/docs/api/python/reference/#duckdb.DuckDBPyRelation)"
      ],
      "metadata": {
        "id": "lmDcO3MUtMy4"
      }
    },
    {
      "cell_type": "code",
      "source": [
        "rel = duckdb.df(data) # create a relational object"
      ],
      "metadata": {
        "id": "_27EZQ8dG1O2"
      },
      "execution_count": null,
      "outputs": []
    },
    {
      "cell_type": "code",
      "source": [
        "rel.columns"
      ],
      "metadata": {
        "colab": {
          "base_uri": "https://localhost:8080/"
        },
        "id": "4OeXtJrKIFE5",
        "outputId": "5fa4dece-51a3-4695-f78d-b999e6059768"
      },
      "execution_count": null,
      "outputs": [
        {
          "output_type": "execute_result",
          "data": {
            "text/plain": [
              "['ServiceNo',\n",
              " 'ServiceDate',\n",
              " 'CustID',\n",
              " 'age',\n",
              " 'sex',\n",
              " 'cmsCode',\n",
              " 'Weight',\n",
              " 'Height',\n",
              " 'HeartRate',\n",
              " 'Systolic',\n",
              " 'Diastolic',\n",
              " 'BMI',\n",
              " 'HDL',\n",
              " 'TG',\n",
              " 'UA']"
            ]
          },
          "metadata": {},
          "execution_count": 20
        }
      ]
    },
    {
      "cell_type": "code",
      "source": [
        "rel.describe()"
      ],
      "metadata": {
        "colab": {
          "base_uri": "https://localhost:8080/"
        },
        "id": "VGdEA7ReIWKX",
        "outputId": "e09afa0c-91c2-4d79-d95a-65940a27df6d"
      },
      "execution_count": null,
      "outputs": [
        {
          "output_type": "execute_result",
          "data": {
            "text/plain": [
              "┌─────────┬────────────────────┬────────────────┬───┬─────────┬────────────────────┬───────────────────┐\n",
              "│  aggr   │     ServiceNo      │  ServiceDate   │ … │   HDL   │         TG         │        UA         │\n",
              "│ varchar │       double       │    varchar     │   │ varchar │       double       │      double       │\n",
              "├─────────┼────────────────────┼────────────────┼───┼─────────┼────────────────────┼───────────────────┤\n",
              "│ count   │            18645.0 │ 18645          │ … │ 15196   │            15254.0 │           13476.0 │\n",
              "│ mean    │ 201106133252.34137 │ NULL           │ … │ NULL    │ 121.12829421791005 │  5.37851142772333 │\n",
              "│ stddev  │  2801075.903464601 │ NULL           │ … │ NULL    │  92.70951522975376 │ 1.454882671327019 │\n",
              "│ min     │     201101050001.0 │ 1/11/2011 0:00 │ … │ 100     │               21.0 │              0.66 │\n",
              "│ max     │     201112280131.0 │ 9/8/2011 0:00  │ … │ ไม่มีเลือด │             1877.0 │             13.14 │\n",
              "│ median  │     201106230063.0 │ NULL           │ … │ NULL    │               98.0 │               5.2 │\n",
              "├─────────┴────────────────────┴────────────────┴───┴─────────┴────────────────────┴───────────────────┤\n",
              "│ 6 rows                                                                          16 columns (6 shown) │\n",
              "└──────────────────────────────────────────────────────────────────────────────────────────────────────┘"
            ]
          },
          "metadata": {},
          "execution_count": 21
        }
      ]
    },
    {
      "cell_type": "code",
      "source": [
        "rel.show()"
      ],
      "metadata": {
        "colab": {
          "base_uri": "https://localhost:8080/"
        },
        "id": "rQuuuARiIdVQ",
        "outputId": "7d25c0e0-6fc9-4ed5-b0fb-b4a6ad56c46e"
      },
      "execution_count": null,
      "outputs": [
        {
          "output_type": "stream",
          "name": "stdout",
          "text": [
            "┌──────────────┬────────────────┬────────┬────────┬────────┬───┬───────────┬─────────────┬─────────┬────────┬────────┐\n",
            "│  ServiceNo   │  ServiceDate   │ CustID │  age   │  sex   │ … │ Diastolic │     BMI     │   HDL   │   TG   │   UA   │\n",
            "│    int64     │    varchar     │ double │ double │ double │   │  double   │   varchar   │ varchar │ double │ double │\n",
            "├──────────────┼────────────────┼────────┼────────┼────────┼───┼───────────┼─────────────┼─────────┼────────┼────────┤\n",
            "│ 201101050001 │ 5/1/2011 0:00  │  225.0 │   59.0 │    2.0 │ … │      96.0 │ 32.35631502 │ 56.4    │  115.0 │   5.04 │\n",
            "│ 201101050002 │ 5/1/2011 0:00  │  225.0 │   55.0 │    2.0 │ … │      70.0 │ 22.06607495 │ 73.7    │  141.0 │   3.82 │\n",
            "│ 201101050003 │ 5/1/2011 0:00  │  225.0 │   60.0 │    2.0 │ … │      70.0 │ 23.5042735  │ 77.5    │   69.0 │   5.01 │\n",
            "│ 201101050004 │ 5/1/2011 0:00  │  225.0 │   55.0 │    2.0 │ … │      80.0 │ 24.34175829 │ 77.9    │   79.0 │   2.83 │\n",
            "│ 201101050005 │ 5/1/2011 0:00  │  225.0 │   59.0 │    1.0 │ … │      70.0 │ 27.06355345 │ 60.4    │   94.0 │   5.82 │\n",
            "│ 201101050006 │ 5/1/2011 0:00  │  225.0 │   53.0 │    2.0 │ … │      96.0 │ 28.03547433 │ 61.2    │  197.0 │   4.96 │\n",
            "│ 201101050007 │ 5/1/2011 0:00  │  225.0 │   56.0 │    2.0 │ … │      80.0 │ 20.3125     │ 78.5    │   80.0 │   5.17 │\n",
            "│ 201101050008 │ 5/1/2011 0:00  │  225.0 │   57.0 │    2.0 │ … │      80.0 │ 33.01854345 │ 59      │   67.0 │   3.95 │\n",
            "│ 201101050009 │ 5/1/2011 0:00  │  225.0 │   59.0 │    1.0 │ … │      70.0 │ 23.7953599  │ 60.9    │   65.0 │   7.02 │\n",
            "│ 201101050010 │ 5/1/2011 0:00  │  225.0 │   61.0 │    2.0 │ … │      80.0 │ 22.74583596 │ 78.9    │   66.0 │   5.36 │\n",
            "│       ·      │       ·        │    ·   │     ·  │     ·  │ · │        ·  │      ·      │  ·      │     ·  │     ·  │\n",
            "│       ·      │       ·        │    ·   │     ·  │     ·  │ · │        ·  │      ·      │  ·      │     ·  │     ·  │\n",
            "│       ·      │       ·        │    ·   │     ·  │     ·  │ · │        ·  │      ·      │  ·      │     ·  │     ·  │\n",
            "│ 201107120012 │ 12/7/2011 0:00 │  133.0 │   41.0 │    2.0 │ … │      80.0 │ 20.48155783 │ NULL    │   NULL │   NULL │\n",
            "│ 201107120013 │ 12/7/2011 0:00 │  133.0 │   57.0 │    1.0 │ … │      70.0 │ 27.10459184 │ 51.9    │  146.0 │   7.32 │\n",
            "│ 201107120014 │ 12/7/2011 0:00 │  133.0 │   53.0 │    1.0 │ … │      70.0 │ 25.08650519 │ 69.9    │  103.0 │   6.83 │\n",
            "│ 201107120015 │ 12/7/2011 0:00 │  133.0 │   39.0 │    1.0 │ … │      NULL │ 54.05245747 │ NULL    │   NULL │   NULL │\n",
            "│ 201107120016 │ 12/7/2011 0:00 │  133.0 │   44.0 │    2.0 │ … │      80.0 │ 19.90031912 │ NULL    │   NULL │   NULL │\n",
            "│ 201107120017 │ 12/7/2011 0:00 │  133.0 │   36.0 │    2.0 │ … │      80.0 │ 21.81061394 │ 82.9    │   61.0 │   4.87 │\n",
            "│ 201107120018 │ 12/7/2011 0:00 │  133.0 │   42.0 │    2.0 │ … │      70.0 │ 17.95806068 │ NULL    │   NULL │   NULL │\n",
            "│ 201107120019 │ 12/7/2011 0:00 │  133.0 │   36.0 │    2.0 │ … │      70.0 │ 20.60353798 │ 83.4    │   57.0 │   3.95 │\n",
            "│ 201107120020 │ 12/7/2011 0:00 │  133.0 │   40.0 │    2.0 │ … │      60.0 │ 21.94496954 │ NULL    │   NULL │   NULL │\n",
            "│ 201107120021 │ 12/7/2011 0:00 │  133.0 │   58.0 │    2.0 │ … │      80.0 │ 28.80332986 │ NULL    │   NULL │   NULL │\n",
            "├──────────────┴────────────────┴────────┴────────┴────────┴───┴───────────┴─────────────┴─────────┴────────┴────────┤\n",
            "│ ? rows (>9999 rows, 20 shown)                                                                15 columns (10 shown) │\n",
            "└────────────────────────────────────────────────────────────────────────────────────────────────────────────────────┘\n",
            "\n"
          ]
        }
      ]
    },
    {
      "cell_type": "code",
      "source": [
        "rel.count('*') # counts all rows"
      ],
      "metadata": {
        "colab": {
          "base_uri": "https://localhost:8080/"
        },
        "id": "8AhzwoHmIj9X",
        "outputId": "b02764f8-6d09-4e6f-e158-d0cc3782d4fb"
      },
      "execution_count": null,
      "outputs": [
        {
          "output_type": "execute_result",
          "data": {
            "text/plain": [
              "┌──────────────┐\n",
              "│ count_star() │\n",
              "│    int64     │\n",
              "├──────────────┤\n",
              "│        18645 │\n",
              "└──────────────┘"
            ]
          },
          "metadata": {},
          "execution_count": 23
        }
      ]
    },
    {
      "cell_type": "code",
      "source": [
        "rel.count('ServiceNo, age, weight, height')"
      ],
      "metadata": {
        "colab": {
          "base_uri": "https://localhost:8080/"
        },
        "id": "OXM0bG3BIvRH",
        "outputId": "4fd78181-b52f-447a-a6e7-53aa222a2d92"
      },
      "execution_count": null,
      "outputs": [
        {
          "output_type": "execute_result",
          "data": {
            "text/plain": [
              "┌──────────────────┬────────────┬───────────────┬───────────────┐\n",
              "│ count(ServiceNo) │ count(age) │ count(weight) │ count(height) │\n",
              "│      int64       │   int64    │     int64     │     int64     │\n",
              "├──────────────────┼────────────┼───────────────┼───────────────┤\n",
              "│            18645 │      18639 │         17439 │         17444 │\n",
              "└──────────────────┴────────────┴───────────────┴───────────────┘"
            ]
          },
          "metadata": {},
          "execution_count": 24
        }
      ]
    },
    {
      "cell_type": "code",
      "source": [
        "rel.filter('age > 60.0')"
      ],
      "metadata": {
        "colab": {
          "base_uri": "https://localhost:8080/"
        },
        "id": "c1jG4d2CI680",
        "outputId": "3f0d28a8-9936-4932-9e5b-99e48a3c1157"
      },
      "execution_count": null,
      "outputs": [
        {
          "output_type": "execute_result",
          "data": {
            "text/plain": [
              "┌──────────────┬─────────────────┬────────┬────────┬────────┬───┬───────────┬─────────────┬─────────┬────────┬────────┐\n",
              "│  ServiceNo   │   ServiceDate   │ CustID │  age   │  sex   │ … │ Diastolic │     BMI     │   HDL   │   TG   │   UA   │\n",
              "│    int64     │     varchar     │ double │ double │ double │   │  double   │   varchar   │ varchar │ double │ double │\n",
              "├──────────────┼─────────────────┼────────┼────────┼────────┼───┼───────────┼─────────────┼─────────┼────────┼────────┤\n",
              "│ 201101050010 │ 5/1/2011 0:00   │  225.0 │   61.0 │    2.0 │ … │      80.0 │ 22.74583596 │ 78.9    │   66.0 │   5.36 │\n",
              "│ 201101190013 │ 19/1/2011 0:00  │  179.0 │   61.0 │    2.0 │ … │      80.0 │ 18.6723886  │ 57.3    │  105.0 │   3.82 │\n",
              "│ 201101190014 │ 19/1/2011 0:00  │  179.0 │   61.0 │    2.0 │ … │      80.0 │ 28.08433211 │ 79.2    │   48.0 │   5.07 │\n",
              "│ 201101190074 │ 19/1/2011 0:00  │  179.0 │   61.0 │    2.0 │ … │      90.0 │ 25.20398137 │ 88.8    │  131.0 │   6.39 │\n",
              "│ 201101190110 │ 19/1/2011 0:00  │  179.0 │   61.0 │    2.0 │ … │      90.0 │ 29.20332937 │ 58.3    │  133.0 │   2.01 │\n",
              "│ 201101190212 │ 19/1/2011 0:00  │  179.0 │   61.0 │    2.0 │ … │      80.0 │ 19.52240591 │ 84.9    │   84.0 │   4.83 │\n",
              "│ 201101240028 │ 24/1/2011 0:00  │   47.0 │   62.0 │    2.0 │ … │      60.0 │ 22.9719382  │ 72.4    │   79.0 │   5.75 │\n",
              "│ 201101240047 │ 24/1/2011 0:00  │   47.0 │   74.0 │    1.0 │ … │      80.0 │ 25.14285714 │ 46.9    │  131.0 │   6.14 │\n",
              "│ 201101250034 │ 25/1/2011 0:00  │  145.0 │   61.0 │    1.0 │ … │      80.0 │ 26.89232314 │ 37.7    │  198.0 │   6.38 │\n",
              "│ 201101250039 │ 25/1/2011 0:00  │  145.0 │   68.0 │    1.0 │ … │      80.0 │ 26.00906435 │ 46.7    │  125.0 │   7.32 │\n",
              "│       ·      │       ·         │     ·  │     ·  │     ·  │ · │        ·  │      ·      │  ·      │     ·  │     ·  │\n",
              "│       ·      │       ·         │     ·  │     ·  │     ·  │ · │        ·  │      ·      │  ·      │     ·  │     ·  │\n",
              "│       ·      │       ·         │     ·  │     ·  │     ·  │ · │        ·  │      ·      │  ·      │     ·  │     ·  │\n",
              "│ 201112220032 │ 22/12/2011 0:00 │   42.0 │   68.0 │    1.0 │ … │      NULL │ 32.88370675 │ NULL    │   NULL │   NULL │\n",
              "│ 201112220035 │ 22/12/2011 0:00 │   42.0 │   66.0 │    2.0 │ … │      NULL │ 30.97960356 │ NULL    │   NULL │   NULL │\n",
              "│ 201112220042 │ 22/12/2011 0:00 │   42.0 │   63.0 │    2.0 │ … │      NULL │ 26.16739016 │ NULL    │   NULL │   NULL │\n",
              "│ 201112220043 │ 22/12/2011 0:00 │   42.0 │   70.0 │    2.0 │ … │      NULL │ 23.10093652 │ NULL    │   NULL │   NULL │\n",
              "│ 201112220054 │ 22/12/2011 0:00 │   42.0 │   72.0 │    2.0 │ … │      NULL │ 24.14151925 │ NULL    │   NULL │   NULL │\n",
              "│ 201112220057 │ 22/12/2011 0:00 │   42.0 │   63.0 │    2.0 │ … │      NULL │ 26.35351661 │ NULL    │   NULL │   NULL │\n",
              "│ 201112220077 │ 22/12/2011 0:00 │   42.0 │   65.0 │    2.0 │ … │      NULL │ 22.27069851 │ NULL    │   NULL │   NULL │\n",
              "│ 201112220080 │ 22/12/2011 0:00 │   42.0 │   63.0 │    2.0 │ … │      NULL │ 34.32553427 │ 67.1    │   93.0 │   NULL │\n",
              "│ 201112270010 │ 27/12/2011 0:00 │   31.0 │   61.0 │    2.0 │ … │      80.0 │ 25.09851755 │ 58.3    │  113.0 │   3.52 │\n",
              "│ 201112270043 │ 27/12/2011 0:00 │   31.0 │   64.0 │    1.0 │ … │      80.0 │ 27.54820937 │ 44.2    │  428.0 │   8.91 │\n",
              "├──────────────┴─────────────────┴────────┴────────┴────────┴───┴───────────┴─────────────┴─────────┴────────┴────────┤\n",
              "│ 1956 rows (20 shown)                                                                          15 columns (10 shown) │\n",
              "└─────────────────────────────────────────────────────────────────────────────────────────────────────────────────────┘"
            ]
          },
          "metadata": {},
          "execution_count": 25
        }
      ]
    },
    {
      "cell_type": "code",
      "source": [
        "rel.filter('age > 60.0').count('age,weight,height')"
      ],
      "metadata": {
        "colab": {
          "base_uri": "https://localhost:8080/"
        },
        "id": "IkZfdpRcJOTz",
        "outputId": "4ade8eec-ae19-4513-bd0c-effa2bcbdfe0"
      },
      "execution_count": null,
      "outputs": [
        {
          "output_type": "execute_result",
          "data": {
            "text/plain": [
              "┌────────────┬───────────────┬───────────────┐\n",
              "│ count(age) │ count(weight) │ count(height) │\n",
              "│   int64    │     int64     │     int64     │\n",
              "├────────────┼───────────────┼───────────────┤\n",
              "│       1956 │          1594 │          1594 │\n",
              "└────────────┴───────────────┴───────────────┘"
            ]
          },
          "metadata": {},
          "execution_count": 27
        }
      ]
    },
    {
      "cell_type": "code",
      "source": [
        "rel.filter('age > 60.0').limit(10)"
      ],
      "metadata": {
        "colab": {
          "base_uri": "https://localhost:8080/"
        },
        "id": "C3bfPPQXJamQ",
        "outputId": "61d6ca2e-9e88-4815-e06e-5942694cb805"
      },
      "execution_count": null,
      "outputs": [
        {
          "output_type": "execute_result",
          "data": {
            "text/plain": [
              "┌──────────────┬────────────────┬────────┬────────┬────────┬───┬───────────┬─────────────┬─────────┬────────┬────────┐\n",
              "│  ServiceNo   │  ServiceDate   │ CustID │  age   │  sex   │ … │ Diastolic │     BMI     │   HDL   │   TG   │   UA   │\n",
              "│    int64     │    varchar     │ double │ double │ double │   │  double   │   varchar   │ varchar │ double │ double │\n",
              "├──────────────┼────────────────┼────────┼────────┼────────┼───┼───────────┼─────────────┼─────────┼────────┼────────┤\n",
              "│ 201101050010 │ 5/1/2011 0:00  │  225.0 │   61.0 │    2.0 │ … │      80.0 │ 22.74583596 │ 78.9    │   66.0 │   5.36 │\n",
              "│ 201101190013 │ 19/1/2011 0:00 │  179.0 │   61.0 │    2.0 │ … │      80.0 │ 18.6723886  │ 57.3    │  105.0 │   3.82 │\n",
              "│ 201101190014 │ 19/1/2011 0:00 │  179.0 │   61.0 │    2.0 │ … │      80.0 │ 28.08433211 │ 79.2    │   48.0 │   5.07 │\n",
              "│ 201101190074 │ 19/1/2011 0:00 │  179.0 │   61.0 │    2.0 │ … │      90.0 │ 25.20398137 │ 88.8    │  131.0 │   6.39 │\n",
              "│ 201101190110 │ 19/1/2011 0:00 │  179.0 │   61.0 │    2.0 │ … │      90.0 │ 29.20332937 │ 58.3    │  133.0 │   2.01 │\n",
              "│ 201101190212 │ 19/1/2011 0:00 │  179.0 │   61.0 │    2.0 │ … │      80.0 │ 19.52240591 │ 84.9    │   84.0 │   4.83 │\n",
              "│ 201101240028 │ 24/1/2011 0:00 │   47.0 │   62.0 │    2.0 │ … │      60.0 │ 22.9719382  │ 72.4    │   79.0 │   5.75 │\n",
              "│ 201101240047 │ 24/1/2011 0:00 │   47.0 │   74.0 │    1.0 │ … │      80.0 │ 25.14285714 │ 46.9    │  131.0 │   6.14 │\n",
              "│ 201101250034 │ 25/1/2011 0:00 │  145.0 │   61.0 │    1.0 │ … │      80.0 │ 26.89232314 │ 37.7    │  198.0 │   6.38 │\n",
              "│ 201101250039 │ 25/1/2011 0:00 │  145.0 │   68.0 │    1.0 │ … │      80.0 │ 26.00906435 │ 46.7    │  125.0 │   7.32 │\n",
              "├──────────────┴────────────────┴────────┴────────┴────────┴───┴───────────┴─────────────┴─────────┴────────┴────────┤\n",
              "│ 10 rows                                                                                      15 columns (10 shown) │\n",
              "└────────────────────────────────────────────────────────────────────────────────────────────────────────────────────┘"
            ]
          },
          "metadata": {},
          "execution_count": 28
        }
      ]
    },
    {
      "cell_type": "code",
      "source": [
        "rel.filter('age > 60.0').project('age,BMI,HDL,TG').limit(10)"
      ],
      "metadata": {
        "colab": {
          "base_uri": "https://localhost:8080/"
        },
        "id": "-g7fCHWlJrdM",
        "outputId": "045c0561-3c28-41e0-cb6c-83d5a6c3ffdb"
      },
      "execution_count": null,
      "outputs": [
        {
          "output_type": "execute_result",
          "data": {
            "text/plain": [
              "┌────────┬─────────────┬─────────┬────────┐\n",
              "│  age   │     BMI     │   HDL   │   TG   │\n",
              "│ double │   varchar   │ varchar │ double │\n",
              "├────────┼─────────────┼─────────┼────────┤\n",
              "│   61.0 │ 22.74583596 │ 78.9    │   66.0 │\n",
              "│   61.0 │ 18.6723886  │ 57.3    │  105.0 │\n",
              "│   61.0 │ 28.08433211 │ 79.2    │   48.0 │\n",
              "│   61.0 │ 25.20398137 │ 88.8    │  131.0 │\n",
              "│   61.0 │ 29.20332937 │ 58.3    │  133.0 │\n",
              "│   61.0 │ 19.52240591 │ 84.9    │   84.0 │\n",
              "│   62.0 │ 22.9719382  │ 72.4    │   79.0 │\n",
              "│   74.0 │ 25.14285714 │ 46.9    │  131.0 │\n",
              "│   61.0 │ 26.89232314 │ 37.7    │  198.0 │\n",
              "│   68.0 │ 26.00906435 │ 46.7    │  125.0 │\n",
              "├────────┴─────────────┴─────────┴────────┤\n",
              "│ 10 rows                       4 columns │\n",
              "└─────────────────────────────────────────┘"
            ]
          },
          "metadata": {},
          "execution_count": 29
        }
      ]
    },
    {
      "cell_type": "code",
      "source": [
        "rel.filter('age > 60.0').avg('age')"
      ],
      "metadata": {
        "colab": {
          "base_uri": "https://localhost:8080/"
        },
        "id": "l92udGeiJ0HI",
        "outputId": "71f40c8e-2c82-493d-8c4e-2cab359f835c"
      },
      "execution_count": null,
      "outputs": [
        {
          "output_type": "execute_result",
          "data": {
            "text/plain": [
              "┌─────────────────┐\n",
              "│    avg(age)     │\n",
              "│     double      │\n",
              "├─────────────────┤\n",
              "│ 66.640081799591 │\n",
              "└─────────────────┘"
            ]
          },
          "metadata": {},
          "execution_count": 30
        }
      ]
    },
    {
      "cell_type": "code",
      "source": [
        "rel.filter('age > 60.0').std('age')"
      ],
      "metadata": {
        "colab": {
          "base_uri": "https://localhost:8080/"
        },
        "id": "HsA9SOi1KJx8",
        "outputId": "31d54d91-63a0-41c1-efbc-b17b8d5d4a41"
      },
      "execution_count": null,
      "outputs": [
        {
          "output_type": "execute_result",
          "data": {
            "text/plain": [
              "┌───────────────────┐\n",
              "│ stddev_samp(age)  │\n",
              "│      double       │\n",
              "├───────────────────┤\n",
              "│ 5.489660944203022 │\n",
              "└───────────────────┘"
            ]
          },
          "metadata": {},
          "execution_count": 31
        }
      ]
    },
    {
      "cell_type": "code",
      "source": [
        "duckdb.filter(data, 'age > 60.0') # shorthand version"
      ],
      "metadata": {
        "colab": {
          "base_uri": "https://localhost:8080/"
        },
        "id": "7Vv21NXMKQUS",
        "outputId": "9519c382-3d05-4e6f-c230-a90fff90719c"
      },
      "execution_count": null,
      "outputs": [
        {
          "output_type": "execute_result",
          "data": {
            "text/plain": [
              "┌──────────────┬─────────────────┬────────┬────────┬────────┬───┬───────────┬─────────────┬─────────┬────────┬────────┐\n",
              "│  ServiceNo   │   ServiceDate   │ CustID │  age   │  sex   │ … │ Diastolic │     BMI     │   HDL   │   TG   │   UA   │\n",
              "│    int64     │     varchar     │ double │ double │ double │   │  double   │   varchar   │ varchar │ double │ double │\n",
              "├──────────────┼─────────────────┼────────┼────────┼────────┼───┼───────────┼─────────────┼─────────┼────────┼────────┤\n",
              "│ 201101050010 │ 5/1/2011 0:00   │  225.0 │   61.0 │    2.0 │ … │      80.0 │ 22.74583596 │ 78.9    │   66.0 │   5.36 │\n",
              "│ 201101190013 │ 19/1/2011 0:00  │  179.0 │   61.0 │    2.0 │ … │      80.0 │ 18.6723886  │ 57.3    │  105.0 │   3.82 │\n",
              "│ 201101190014 │ 19/1/2011 0:00  │  179.0 │   61.0 │    2.0 │ … │      80.0 │ 28.08433211 │ 79.2    │   48.0 │   5.07 │\n",
              "│ 201101190074 │ 19/1/2011 0:00  │  179.0 │   61.0 │    2.0 │ … │      90.0 │ 25.20398137 │ 88.8    │  131.0 │   6.39 │\n",
              "│ 201101190110 │ 19/1/2011 0:00  │  179.0 │   61.0 │    2.0 │ … │      90.0 │ 29.20332937 │ 58.3    │  133.0 │   2.01 │\n",
              "│ 201101190212 │ 19/1/2011 0:00  │  179.0 │   61.0 │    2.0 │ … │      80.0 │ 19.52240591 │ 84.9    │   84.0 │   4.83 │\n",
              "│ 201101240028 │ 24/1/2011 0:00  │   47.0 │   62.0 │    2.0 │ … │      60.0 │ 22.9719382  │ 72.4    │   79.0 │   5.75 │\n",
              "│ 201101240047 │ 24/1/2011 0:00  │   47.0 │   74.0 │    1.0 │ … │      80.0 │ 25.14285714 │ 46.9    │  131.0 │   6.14 │\n",
              "│ 201101250034 │ 25/1/2011 0:00  │  145.0 │   61.0 │    1.0 │ … │      80.0 │ 26.89232314 │ 37.7    │  198.0 │   6.38 │\n",
              "│ 201101250039 │ 25/1/2011 0:00  │  145.0 │   68.0 │    1.0 │ … │      80.0 │ 26.00906435 │ 46.7    │  125.0 │   7.32 │\n",
              "│       ·      │       ·         │     ·  │     ·  │     ·  │ · │        ·  │      ·      │  ·      │     ·  │     ·  │\n",
              "│       ·      │       ·         │     ·  │     ·  │     ·  │ · │        ·  │      ·      │  ·      │     ·  │     ·  │\n",
              "│       ·      │       ·         │     ·  │     ·  │     ·  │ · │        ·  │      ·      │  ·      │     ·  │     ·  │\n",
              "│ 201112220032 │ 22/12/2011 0:00 │   42.0 │   68.0 │    1.0 │ … │      NULL │ 32.88370675 │ NULL    │   NULL │   NULL │\n",
              "│ 201112220035 │ 22/12/2011 0:00 │   42.0 │   66.0 │    2.0 │ … │      NULL │ 30.97960356 │ NULL    │   NULL │   NULL │\n",
              "│ 201112220042 │ 22/12/2011 0:00 │   42.0 │   63.0 │    2.0 │ … │      NULL │ 26.16739016 │ NULL    │   NULL │   NULL │\n",
              "│ 201112220043 │ 22/12/2011 0:00 │   42.0 │   70.0 │    2.0 │ … │      NULL │ 23.10093652 │ NULL    │   NULL │   NULL │\n",
              "│ 201112220054 │ 22/12/2011 0:00 │   42.0 │   72.0 │    2.0 │ … │      NULL │ 24.14151925 │ NULL    │   NULL │   NULL │\n",
              "│ 201112220057 │ 22/12/2011 0:00 │   42.0 │   63.0 │    2.0 │ … │      NULL │ 26.35351661 │ NULL    │   NULL │   NULL │\n",
              "│ 201112220077 │ 22/12/2011 0:00 │   42.0 │   65.0 │    2.0 │ … │      NULL │ 22.27069851 │ NULL    │   NULL │   NULL │\n",
              "│ 201112220080 │ 22/12/2011 0:00 │   42.0 │   63.0 │    2.0 │ … │      NULL │ 34.32553427 │ 67.1    │   93.0 │   NULL │\n",
              "│ 201112270010 │ 27/12/2011 0:00 │   31.0 │   61.0 │    2.0 │ … │      80.0 │ 25.09851755 │ 58.3    │  113.0 │   3.52 │\n",
              "│ 201112270043 │ 27/12/2011 0:00 │   31.0 │   64.0 │    1.0 │ … │      80.0 │ 27.54820937 │ 44.2    │  428.0 │   8.91 │\n",
              "├──────────────┴─────────────────┴────────┴────────┴────────┴───┴───────────┴─────────────┴─────────┴────────┴────────┤\n",
              "│ 1956 rows (20 shown)                                                                          15 columns (10 shown) │\n",
              "└─────────────────────────────────────────────────────────────────────────────────────────────────────────────────────┘"
            ]
          },
          "metadata": {},
          "execution_count": 32
        }
      ]
    },
    {
      "cell_type": "code",
      "source": [
        "rel.filter('age > 60').select('age, weight, height')"
      ],
      "metadata": {
        "colab": {
          "base_uri": "https://localhost:8080/"
        },
        "id": "WsKtI9McKokE",
        "outputId": "2efd7e02-74a7-4e13-8e0a-fdbc741a9349"
      },
      "execution_count": null,
      "outputs": [
        {
          "output_type": "execute_result",
          "data": {
            "text/plain": [
              "┌────────┬─────────┬─────────┐\n",
              "│  age   │ Weight  │ Height  │\n",
              "│ double │ varchar │ varchar │\n",
              "├────────┼─────────┼─────────┤\n",
              "│   61.0 │ 55      │ 155.5   │\n",
              "│   61.0 │ 40.9    │ 148     │\n",
              "│   61.0 │ 71      │ 159     │\n",
              "│   61.0 │ 59      │ 153     │\n",
              "│   61.0 │ 61.4    │ 145     │\n",
              "│   61.0 │ 45.7    │ 153     │\n",
              "│   62.0 │ 51      │ 149     │\n",
              "│   74.0 │ 77      │ 175     │\n",
              "│   61.0 │ 75      │ 167     │\n",
              "│   68.0 │ 67      │ 160.5   │\n",
              "│     ·  │ ·       │  ·      │\n",
              "│     ·  │ ·       │  ·      │\n",
              "│     ·  │ ·       │  ·      │\n",
              "│   68.0 │ 86.3    │ 162     │\n",
              "│   66.0 │ 67.4    │ 147.5   │\n",
              "│   63.0 │ 64.5    │ 157     │\n",
              "│   70.0 │ 55.5    │ 155     │\n",
              "│   72.0 │ 58      │ 155     │\n",
              "│   63.0 │ 62.5    │ 154     │\n",
              "│   65.0 │ 61      │ 165.5   │\n",
              "│   63.0 │ 83      │ 155.5   │\n",
              "│   61.0 │ 53.5    │ 146     │\n",
              "│   64.0 │ 75      │ 165     │\n",
              "├────────┴─────────┴─────────┤\n",
              "│    1956 rows (20 shown)    │\n",
              "└────────────────────────────┘"
            ]
          },
          "metadata": {},
          "execution_count": 34
        }
      ]
    },
    {
      "cell_type": "code",
      "source": [
        "rel.filter('age > 60').select('age, weight, height').sql_query()"
      ],
      "metadata": {
        "colab": {
          "base_uri": "https://localhost:8080/",
          "height": 36
        },
        "id": "Lu0WhZyCKzXT",
        "outputId": "1ef9cec0-b76f-4a31-f3f0-e296e505d06f"
      },
      "execution_count": null,
      "outputs": [
        {
          "output_type": "execute_result",
          "data": {
            "text/plain": [
              "'SELECT age, weight, height FROM (SELECT * FROM (SELECT * FROM pandas_scan(0x7cf98b0f43d0)) AS df_20beee09b5c977d4 WHERE (age > 60)) AS df_20beee09b5c977d4'"
            ],
            "application/vnd.google.colaboratory.intrinsic+json": {
              "type": "string"
            }
          },
          "metadata": {},
          "execution_count": 35
        }
      ]
    },
    {
      "cell_type": "code",
      "source": [
        "import sqlite3"
      ],
      "metadata": {
        "id": "6Otq4v_7LDuV"
      },
      "execution_count": null,
      "outputs": []
    },
    {
      "cell_type": "code",
      "source": [
        "sqlite_conn = sqlite3.connect('hospital.db')"
      ],
      "metadata": {
        "id": "oROsl7c6L0a-"
      },
      "execution_count": null,
      "outputs": []
    },
    {
      "cell_type": "code",
      "source": [
        "doctors = pd.read_sql_query('SELECT * FROM doctors', con=sqlite_conn)"
      ],
      "metadata": {
        "id": "BM0toqgwL6qP"
      },
      "execution_count": null,
      "outputs": []
    },
    {
      "cell_type": "code",
      "source": [
        "departments = pd.read_sql_query('SELECT * FROM departments', con=sqlite_conn)"
      ],
      "metadata": {
        "id": "TTb6BecQMNew"
      },
      "execution_count": null,
      "outputs": []
    },
    {
      "cell_type": "code",
      "source": [
        "r_doctors = duckdb.df(doctors).set_alias('d')\n",
        "r_depts = duckdb.df(departments).set_alias('p')"
      ],
      "metadata": {
        "id": "ovsvr2PRMS7B"
      },
      "execution_count": null,
      "outputs": []
    },
    {
      "cell_type": "code",
      "source": [
        "doctor_depts = r_doctors.join(r_depts, 'd.department_code=p.code')"
      ],
      "metadata": {
        "id": "7hM023SdMr6m"
      },
      "execution_count": null,
      "outputs": []
    },
    {
      "cell_type": "code",
      "source": [
        "doctor_depts.show()"
      ],
      "metadata": {
        "colab": {
          "base_uri": "https://localhost:8080/"
        },
        "id": "zFcDI2U4M0cr",
        "outputId": "a57c18fe-c9bd-4c32-98a4-93889462af28"
      },
      "execution_count": null,
      "outputs": [
        {
          "output_type": "stream",
          "name": "stdout",
          "text": [
            "┌───────┬───────────┬────────────┬────────────┬─────────────────┬─────────┬───────────────────┐\n",
            "│  id   │ firstname │  lastname  │  license   │ department_code │  code   │       name        │\n",
            "│ int64 │  varchar  │  varchar   │  varchar   │     varchar     │ varchar │      varchar      │\n",
            "├───────┼───────────┼────────────┼────────────┼─────────────────┼─────────┼───────────────────┤\n",
            "│     1 │ Larry     │ Patel      │ 0953979718 │ MED             │ MED     │ Internal Medicine │\n",
            "│     2 │ Joshua    │ Holloway   │ 4226068794 │ ER              │ ER      │ Emergency         │\n",
            "│     3 │ Tammy     │ Richardson │ 7075041268 │ OTH             │ OTH     │ Orthopedics       │\n",
            "│     4 │ Amanda    │ Andersen   │ 3151389665 │ MED             │ MED     │ Internal Medicine │\n",
            "│     5 │ Mary      │ Drake      │ 8084236287 │ GYN             │ GYN     │ Gynecology        │\n",
            "│     6 │ Katherine │ Harper     │ 0883872318 │ GYN             │ GYN     │ Gynecology        │\n",
            "│     7 │ Amanda    │ Fernandez  │ 0278973052 │ GYN             │ GYN     │ Gynecology        │\n",
            "│     8 │ Diana     │ Hansen     │ 5963878586 │ GYN             │ GYN     │ Gynecology        │\n",
            "│     9 │ Jason     │ Thompson   │ 8963746696 │ MED             │ MED     │ Internal Medicine │\n",
            "│    10 │ Nancy     │ Travis     │ 9973904570 │ ER              │ ER      │ Emergency         │\n",
            "│     · │   ·       │   ·        │     ·      │ ·               │ ·       │     ·             │\n",
            "│     · │   ·       │   ·        │     ·      │ ·               │ ·       │     ·             │\n",
            "│     · │   ·       │   ·        │     ·      │ ·               │ ·       │     ·             │\n",
            "│    21 │ Walter    │ Knapp      │ 1752788001 │ GYN             │ GYN     │ Gynecology        │\n",
            "│    22 │ Lauren    │ Allen      │ 5378343161 │ GYN             │ GYN     │ Gynecology        │\n",
            "│    23 │ Ashley    │ Barr       │ 5098602198 │ GYN             │ GYN     │ Gynecology        │\n",
            "│    24 │ Jane      │ Miller     │ 9335979001 │ ER              │ ER      │ Emergency         │\n",
            "│    25 │ Juan      │ Rodriguez  │ 1862801256 │ OTH             │ OTH     │ Orthopedics       │\n",
            "│    26 │ Patricia  │ Martin     │ 6981233879 │ GYN             │ GYN     │ Gynecology        │\n",
            "│    27 │ David     │ Myers      │ 4354922330 │ OTH             │ OTH     │ Orthopedics       │\n",
            "│    28 │ Christine │ Garza      │ 0330412258 │ ER              │ ER      │ Emergency         │\n",
            "│    29 │ Seth      │ Walton     │ 6911492236 │ GYN             │ GYN     │ Gynecology        │\n",
            "│    30 │ Daniel    │ Guzman     │ 4221737937 │ GYN             │ GYN     │ Gynecology        │\n",
            "├───────┴───────────┴────────────┴────────────┴─────────────────┴─────────┴───────────────────┤\n",
            "│ 30 rows (20 shown)                                                                7 columns │\n",
            "└─────────────────────────────────────────────────────────────────────────────────────────────┘\n",
            "\n"
          ]
        }
      ]
    },
    {
      "cell_type": "code",
      "source": [
        "doctor_depts.value_counts('code', groups='code')"
      ],
      "metadata": {
        "colab": {
          "base_uri": "https://localhost:8080/"
        },
        "id": "yyZvX7qeM_p0",
        "outputId": "592729a1-74dd-4b11-ccb4-80ac8d78cb2a"
      },
      "execution_count": null,
      "outputs": [
        {
          "output_type": "execute_result",
          "data": {
            "text/plain": [
              "┌─────────┬─────────────┐\n",
              "│  code   │ count(code) │\n",
              "│ varchar │    int64    │\n",
              "├─────────┼─────────────┤\n",
              "│ MED     │           5 │\n",
              "│ ER      │           8 │\n",
              "│ GYN     │          12 │\n",
              "│ OTH     │           5 │\n",
              "└─────────┴─────────────┘"
            ]
          },
          "metadata": {},
          "execution_count": 44
        }
      ]
    },
    {
      "cell_type": "code",
      "source": [
        "doctor_depts.create('doctor_dept_table')"
      ],
      "metadata": {
        "id": "bhRKo1caNvx_"
      },
      "execution_count": null,
      "outputs": []
    },
    {
      "cell_type": "code",
      "source": [
        "duckdb.sql('''\n",
        "SELECT count(*), code FROM doctor_dept_table\n",
        "GROUP BY code\n",
        "ORDER BY count(*) DESC\n",
        "''')"
      ],
      "metadata": {
        "colab": {
          "base_uri": "https://localhost:8080/"
        },
        "id": "vs7rBUVZOKFt",
        "outputId": "8d64b4ee-9e1a-4b04-ccc5-102e5ba6596d"
      },
      "execution_count": null,
      "outputs": [
        {
          "output_type": "execute_result",
          "data": {
            "text/plain": [
              "┌──────────────┬─────────┐\n",
              "│ count_star() │  code   │\n",
              "│    int64     │ varchar │\n",
              "├──────────────┼─────────┤\n",
              "│           12 │ GYN     │\n",
              "│            8 │ ER      │\n",
              "│            5 │ MED     │\n",
              "│            5 │ OTH     │\n",
              "└──────────────┴─────────┘"
            ]
          },
          "metadata": {},
          "execution_count": 46
        }
      ]
    },
    {
      "cell_type": "markdown",
      "source": [
        "**Exercise**: What are the top 5 doctors who ordered most?"
      ],
      "metadata": {
        "id": "tI7vM9ioOwVY"
      }
    },
    {
      "cell_type": "code",
      "source": [
        "lab_orders = pd.read_sql_query('SELECT * FROM lab_orders;', con=sqlite_conn)"
      ],
      "metadata": {
        "id": "uxzEm6bsOZY_"
      },
      "execution_count": null,
      "outputs": []
    },
    {
      "cell_type": "code",
      "source": [
        "r_lab_orders = duckdb.df(lab_orders).set_alias('o')"
      ],
      "metadata": {
        "id": "zM4fTbifPSxl"
      },
      "execution_count": null,
      "outputs": []
    },
    {
      "cell_type": "code",
      "source": [
        "doctor_orders = r_doctors.join(r_lab_orders, 'd.id=o.doctor_id')"
      ],
      "metadata": {
        "id": "guYwld9GPZ_t"
      },
      "execution_count": null,
      "outputs": []
    },
    {
      "cell_type": "code",
      "source": [
        "doctor_orders.create('doctor_order_table')"
      ],
      "metadata": {
        "id": "f4S5J_G8Pili"
      },
      "execution_count": null,
      "outputs": []
    },
    {
      "cell_type": "code",
      "source": [
        "duckdb.sql('''\n",
        "SELECT count(*) AS num_orders,firstname,lastname FROM doctor_order_table\n",
        "GROUP BY firstname,lastname\n",
        "ORDER BY count(*) DESC\n",
        "LIMIT 10\n",
        "''')"
      ],
      "metadata": {
        "colab": {
          "base_uri": "https://localhost:8080/"
        },
        "id": "oOPLF4N0PkdS",
        "outputId": "0f4f6c0c-bc5c-440d-8e58-77c298c183e0"
      },
      "execution_count": null,
      "outputs": [
        {
          "output_type": "execute_result",
          "data": {
            "text/plain": [
              "┌────────────┬───────────┬───────────┐\n",
              "│ num_orders │ firstname │ lastname  │\n",
              "│   int64    │  varchar  │  varchar  │\n",
              "├────────────┼───────────┼───────────┤\n",
              "│          9 │ Lauren    │ Allen     │\n",
              "│          9 │ Sonia     │ Simpson   │\n",
              "│          8 │ Jason     │ Thompson  │\n",
              "│          8 │ Seth      │ Walton    │\n",
              "│          8 │ Larry     │ Patel     │\n",
              "│          7 │ Katherine │ Harper    │\n",
              "│          7 │ Amanda    │ Fernandez │\n",
              "│          7 │ Ashley    │ Barr      │\n",
              "│          6 │ Patricia  │ Martin    │\n",
              "│          6 │ Jane      │ Miller    │\n",
              "├────────────┴───────────┴───────────┤\n",
              "│ 10 rows                  3 columns │\n",
              "└────────────────────────────────────┘"
            ]
          },
          "metadata": {},
          "execution_count": 96
        }
      ]
    },
    {
      "cell_type": "code",
      "source": [
        "doctor_orders.value_counts('firstname,lastname', groups='firstname,lastname').sort('count(firstname)').sort('count(lastname)')"
      ],
      "metadata": {
        "colab": {
          "base_uri": "https://localhost:8080/"
        },
        "id": "RnE21am8RSSU",
        "outputId": "3929f027-ce35-4eb3-c356-fe0f3a114812"
      },
      "execution_count": null,
      "outputs": [
        {
          "output_type": "execute_result",
          "data": {
            "text/plain": [
              "┌───────────┬────────────┬──────────────────┬─────────────────┐\n",
              "│ firstname │  lastname  │ count(firstname) │ count(lastname) │\n",
              "│  varchar  │  varchar   │      int64       │      int64      │\n",
              "├───────────┼────────────┼──────────────────┼─────────────────┤\n",
              "│ Catherine │ Spencer    │                1 │               1 │\n",
              "│ Daniel    │ Guzman     │                1 │               1 │\n",
              "│ Nancy     │ Travis     │                2 │               2 │\n",
              "│ Walter    │ Knapp      │                2 │               2 │\n",
              "│ Sheri     │ Bowen      │                2 │               2 │\n",
              "│ Charles   │ Brooks     │                3 │               3 │\n",
              "│ Anthony   │ Jones      │                3 │               3 │\n",
              "│ Miranda   │ Williams   │                3 │               3 │\n",
              "│ Tammy     │ Richardson │                3 │               3 │\n",
              "│ Mary      │ Drake      │                3 │               3 │\n",
              "│  ·        │   ·        │                · │               · │\n",
              "│  ·        │   ·        │                · │               · │\n",
              "│  ·        │   ·        │                · │               · │\n",
              "│ Jane      │ Miller     │                6 │               6 │\n",
              "│ Amanda    │ Andersen   │                6 │               6 │\n",
              "│ Amanda    │ Fernandez  │                7 │               7 │\n",
              "│ Katherine │ Harper     │                7 │               7 │\n",
              "│ Ashley    │ Barr       │                7 │               7 │\n",
              "│ Jason     │ Thompson   │                8 │               8 │\n",
              "│ Larry     │ Patel      │                8 │               8 │\n",
              "│ Seth      │ Walton     │                8 │               8 │\n",
              "│ Lauren    │ Allen      │                9 │               9 │\n",
              "│ Sonia     │ Simpson    │                9 │               9 │\n",
              "├───────────┴────────────┴──────────────────┴─────────────────┤\n",
              "│ 30 rows (20 shown)                                4 columns │\n",
              "└─────────────────────────────────────────────────────────────┘"
            ]
          },
          "metadata": {},
          "execution_count": 95
        }
      ]
    },
    {
      "cell_type": "code",
      "source": [],
      "metadata": {
        "id": "-fFA70j2R-qV"
      },
      "execution_count": null,
      "outputs": []
    }
  ]
}